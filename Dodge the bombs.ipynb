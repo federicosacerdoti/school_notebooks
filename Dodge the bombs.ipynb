{
 "cells": [
  {
   "cell_type": "code",
   "execution_count": 96,
   "metadata": {
    "collapsed": true
   },
   "outputs": [],
   "source": [
    "import tkinter\n",
    "import random"
   ]
  },
  {
   "cell_type": "code",
   "execution_count": 97,
   "metadata": {
    "collapsed": true
   },
   "outputs": [],
   "source": [
    "gameOver = False\n",
    "score = 0\n",
    "squaresToClear = 0\n",
    "empty = \"    \""
   ]
  },
  {
   "cell_type": "code",
   "execution_count": 98,
   "metadata": {
    "collapsed": true
   },
   "outputs": [],
   "source": [
    "def play_bombdodger():\n",
    "    create_bombfield(bombfield)\n",
    "    window = tkinter.Tk()\n",
    "    layout_window(window)\n",
    "    window.mainloop()"
   ]
  },
  {
   "cell_type": "code",
   "execution_count": 99,
   "metadata": {
    "collapsed": true
   },
   "outputs": [],
   "source": [
    "def printfield(bombfield):\n",
    "    print(\"The secret bomb map is\")\n",
    "    for rowList in bombfield:\n",
    "        print(rowList)"
   ]
  },
  {
   "cell_type": "code",
   "execution_count": 100,
   "metadata": {
    "collapsed": true
   },
   "outputs": [],
   "source": [
    "bombfield = []\n",
    "def create_bombfield(bombfield):\n",
    "    global squaresToClear\n",
    "\n",
    "    for row in range(0,10):\n",
    "        rowList = []\n",
    "        for column in range(0,10):\n",
    "            if random.randint(1,100) < 20:\n",
    "                rowList.append(1)\n",
    "            else:\n",
    "                rowList.append(0)\n",
    "                squaresToClear = squaresToClear + 1\n",
    "        bombfield.append(rowList)\n",
    "\n",
    "    printfield(bombfield)"
   ]
  },
  {
   "cell_type": "code",
   "execution_count": 101,
   "metadata": {
    "collapsed": true
   },
   "outputs": [],
   "source": [
    "def layout_window(window):\n",
    "    for rowNumber, rowList in enumerate(bombfield):\n",
    "        for columnNumber, columnEntry in enumerate(rowList):                                                              \n",
    "            if random.randint(1,100) < 25:\n",
    "                square = tkinter.Label(window, text = empty, bg = \"darkgreen\")\n",
    "            elif random.randint(1,100) > 75:\n",
    "                square = tkinter.Label(window, text = empty, bg = \"seagreen\")\n",
    "            else:\n",
    "                square = tkinter.Label(window, text = empty, bg = \"green\")\n",
    "\n",
    "            square.grid(row = rowNumber, column = columnNumber)\n",
    "            square.bind(\"<Button-1>\", on_click)"
   ]
  },
  {
   "cell_type": "code",
   "execution_count": null,
   "metadata": {},
   "outputs": [],
   "source": [
    "def on_click(event):\n",
    "    global score\n",
    "    global gameOver\n",
    "    global squaresToClear\n",
    "    square = event.widget\n",
    "    row = int(square.grid_info()[\"row\"])\n",
    "    column = int(square.grid_info()[\"column\"])\n",
    "    where = (row,column)\n",
    "    currentText = square.cget(\"text\")\n",
    "    if gameOver == False:\n",
    "        if bombfield[row][column] == 1:\n",
    "            gameOver = True\n",
    "            square.config(bg = \"red\")\n",
    "            print(\"Game Over! You hit a bomb!\")\n",
    "            print(\"Your score was:\", score)\n",
    "        elif currentText == empty:\n",
    "            square.config(bg = \"brown\")\n",
    "            totalBombs = 0\n",
    "            if row < 9:\n",
    "                if bombfield[row+1][column] == 1:\n",
    "                    totalBombs = totalBombs + 1\n",
    "            if row > 0:\n",
    "                if bombfield[row-1][column] == 1:\n",
    "                    totalBombs = totalBombs + 1\n",
    "            if column > 0:\n",
    "                if bombfield[row][column-1] == 1:\n",
    "                    totalBombs = totalBombs + 1\n",
    "            if column < 9:\n",
    "                if bombfield[row][column+1] == 1:\n",
    "                    totalBombs = totalBombs + 1\n",
    "            if row > 0 and column > 0:\n",
    "                if bombfield[row-1][column-1]:\n",
    "                    totalBombs = totalBombs + 1\n",
    "            if row < 9 and column > 0:\n",
    "                if bombfield[row+1][column-1] == 1:\n",
    "                    totalBombs = totalBombs + 1\n",
    "            if row > 0 and column < 9:\n",
    "                if bombfield[row-1][column+1] == 1:\n",
    "                    totalBombs = totalBombs + 1\n",
    "            if row < 9 and column < 9:\n",
    "                if bombfield[row+1][column+1] == 1:\n",
    "                    totalBombs = totalBombs + 1\n",
    "            square.config(text = \" \" + str(totalBombs) + \" \")\n",
    "            squaresToClear = squaresToClear - 1\n",
    "            score = score + 1\n",
    "            print(\"square {where} | near_bombs {n} | n_to_clear {n2} | score {score}\".format(\n",
    "                where=str(where),\n",
    "                n=totalBombs,\n",
    "                n2=squaresToClear,\n",
    "                score=score) )\n",
    "            if squaresToClear == 0:\n",
    "                gameOver = True\n",
    "                print(\"Well done! You found all the safe squares!\")\n",
    "                print(\"Your score was:\", score)\n",
    "\n",
    "        "
   ]
  },
  {
   "cell_type": "code",
   "execution_count": null,
   "metadata": {},
   "outputs": [
    {
     "name": "stdout",
     "output_type": "stream",
     "text": [
      "The secret bomb map is\n",
      "[0, 1, 0, 0, 0, 0, 0, 0, 0, 1]\n",
      "[1, 0, 0, 0, 0, 0, 1, 0, 1, 1]\n",
      "[0, 0, 0, 0, 1, 0, 0, 0, 1, 0]\n",
      "[1, 0, 0, 0, 0, 0, 0, 0, 0, 0]\n",
      "[0, 0, 0, 0, 1, 0, 0, 0, 1, 0]\n",
      "[0, 0, 0, 0, 0, 0, 0, 1, 0, 0]\n",
      "[0, 0, 0, 1, 0, 1, 1, 0, 0, 0]\n",
      "[0, 1, 0, 0, 0, 0, 0, 0, 0, 0]\n",
      "[1, 0, 1, 0, 0, 0, 0, 1, 0, 0]\n",
      "[0, 0, 0, 0, 0, 0, 1, 0, 0, 0]\n",
      "square (3, 6) | near_bombs 0 | score 1\n",
      "square (4, 6) | near_bombs 1 | score 2\n",
      "square (3, 5) | near_bombs 2 | score 3\n",
      "square (2, 6) | near_bombs 1 | score 4\n",
      "square (2, 7) | near_bombs 3 | score 5\n",
      "square (1, 7) | near_bombs 3 | score 6\n",
      "square (0, 7) | near_bombs 2 | score 7\n",
      "square (0, 8) | near_bombs 3 | score 8\n",
      "square (0, 6) | near_bombs 1 | score 9\n",
      "square (0, 5) | near_bombs 1 | score 10\n",
      "square (1, 5) | near_bombs 2 | score 11\n",
      "square (2, 5) | near_bombs 2 | score 12\n",
      "square (3, 7) | near_bombs 2 | score 13\n",
      "square (4, 5) | near_bombs 1 | score 14\n",
      "square (4, 7) | near_bombs 2 | score 15\n",
      "square (0, 4) | near_bombs 0 | score 16\n",
      "square (1, 4) | near_bombs 1 | score 17\n",
      "square (0, 3) | near_bombs 0 | score 18\n",
      "square (0, 2) | near_bombs 1 | score 19\n",
      "square (1, 3) | near_bombs 1 | score 20\n",
      "square (1, 2) | near_bombs 1 | score 21\n",
      "square (2, 3) | near_bombs 1 | score 22\n",
      "square (2, 2) | near_bombs 0 | score 23\n",
      "square (1, 1) | near_bombs 2 | score 24\n",
      "square (2, 1) | near_bombs 2 | score 25\n",
      "square (3, 1) | near_bombs 1 | score 26\n",
      "square (3, 2) | near_bombs 0 | score 27\n",
      "square (3, 3) | near_bombs 2 | score 28\n",
      "square (3, 4) | near_bombs 2 | score 29\n",
      "square (4, 3) | near_bombs 1 | score 30\n",
      "square (4, 2) | near_bombs 0 | score 31\n",
      "square (4, 1) | near_bombs 1 | score 32\n",
      "square (5, 2) | near_bombs 1 | score 33\n",
      "square (5, 3) | near_bombs 2 | score 34\n",
      "square (5, 1) | near_bombs 0 | score 35\n",
      "square (5, 0) | near_bombs 0 | score 36\n",
      "square (4, 0) | near_bombs 1 | score 37\n",
      "square (6, 0) | near_bombs 1 | score 38\n",
      "square (6, 1) | near_bombs 1 | score 39\n",
      "square (6, 2) | near_bombs 2 | score 40\n",
      "square (5, 4) | near_bombs 3 | score 41\n",
      "square (5, 5) | near_bombs 3 | score 42\n",
      "square (5, 6) | near_bombs 3 | score 43\n",
      "square (2, 0) | near_bombs 2 | score 44\n",
      "square (0, 0) | near_bombs 2 | score 45\n",
      "square (3, 8) | near_bombs 2 | score 46\n",
      "square (2, 9) | near_bombs 3 | score 47\n",
      "square (3, 9) | near_bombs 2 | score 48\n",
      "square (4, 9) | near_bombs 1 | score 49\n",
      "square (5, 9) | near_bombs 1 | score 50\n",
      "square (5, 8) | near_bombs 2 | score 51\n",
      "square (6, 7) | near_bombs 2 | score 52\n",
      "square (6, 8) | near_bombs 1 | score 53\n",
      "square (6, 9) | near_bombs 0 | score 54\n",
      "square (7, 7) | near_bombs 2 | score 55\n",
      "square (7, 8) | near_bombs 1 | score 56\n",
      "square (7, 9) | near_bombs 0 | score 57\n",
      "square (6, 4) | near_bombs 2 | score 58\n",
      "square (7, 6) | near_bombs 3 | score 59\n",
      "square (7, 5) | near_bombs 2 | score 60\n",
      "square (7, 4) | near_bombs 2 | score 61\n",
      "square (7, 3) | near_bombs 2 | score 62\n",
      "square (9, 0) | near_bombs 1 | score 80\n",
      "Well done! You found all the safe squares!\n",
      "Your score was: 80\n"
     ]
    }
   ],
   "source": [
    "play_bombdodger()"
   ]
  }
 ],
 "metadata": {
  "kernelspec": {
   "display_name": "Python 3",
   "language": "python",
   "name": "python3"
  },
  "language_info": {
   "codemirror_mode": {
    "name": "ipython",
    "version": 3
   },
   "file_extension": ".py",
   "mimetype": "text/x-python",
   "name": "python",
   "nbconvert_exporter": "python",
   "pygments_lexer": "ipython3",
   "version": "3.6.2"
  }
 },
 "nbformat": 4,
 "nbformat_minor": 2
}
