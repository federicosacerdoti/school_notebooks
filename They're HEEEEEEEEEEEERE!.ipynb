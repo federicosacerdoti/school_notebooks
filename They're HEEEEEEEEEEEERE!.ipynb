{
 "cells": [
  {
   "cell_type": "code",
   "execution_count": 1,
   "metadata": {
    "collapsed": true
   },
   "outputs": [],
   "source": [
    "aliens=2"
   ]
  },
  {
   "cell_type": "code",
   "execution_count": 2,
   "metadata": {
    "collapsed": true
   },
   "outputs": [],
   "source": [
    "password=\"ALIENS\""
   ]
  },
  {
   "cell_type": "code",
   "execution_count": null,
   "metadata": {
    "collapsed": true
   },
   "outputs": [],
   "source": [
    "print(\"Quickly! Aliens are invading the planet!\")\n",
    "print(\"You need to activate the global defence platforms.\")\n",
    "print(\"Hope you know the password, for Earth's sake...\")\n",
    "print()\n",
    "print(\"-----------------------------------------------------------------------------------------------------------------\")\n",
    "print(\"           WELCOME TO THE GLOBAL DEFENCE NETWORK                                                                 \")\n",
    "print(\"-----------------------------------------------------------------------------------------------------------------\")\n",
    "print()"
   ]
  }
 ],
 "metadata": {
  "kernelspec": {
   "display_name": "Python 3",
   "language": "python",
   "name": "python3"
  },
  "language_info": {
   "codemirror_mode": {
    "name": "ipython",
    "version": 3
   },
   "file_extension": ".py",
   "mimetype": "text/x-python",
   "name": "python",
   "nbconvert_exporter": "python",
   "pygments_lexer": "ipython3",
   "version": "3.6.2"
  }
 },
 "nbformat": 4,
 "nbformat_minor": 2
}
