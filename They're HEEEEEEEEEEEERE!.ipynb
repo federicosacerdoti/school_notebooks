{
 "cells": [
  {
   "cell_type": "code",
   "execution_count": 18,
   "metadata": {
    "collapsed": true
   },
   "outputs": [],
   "source": [
    "aliens=2"
   ]
  },
  {
   "cell_type": "code",
   "execution_count": 19,
   "metadata": {
    "collapsed": true
   },
   "outputs": [],
   "source": [
    "password=\"ALIENS\""
   ]
  },
  {
   "cell_type": "code",
   "execution_count": null,
   "metadata": {},
   "outputs": [
    {
     "name": "stdout",
     "output_type": "stream",
     "text": [
      "Quickly! Aliens are invading the planet!\n",
      "You need to activate the global defence platforms.\n",
      "Hope you know the password, for Earth's sake...\n",
      "\n",
      "-----------------------------------------------------------------------------------------------------------------\n",
      "                            WELCOME TO THE GLOBAL DEFENCE NETWORK                                                                 \n",
      "-----------------------------------------------------------------------------------------------------------------\n",
      "\n"
     ]
    }
   ],
   "source": [
    "print(\"Quickly! Aliens are invading the planet!\")\n",
    "print(\"You need to activate the global defence platforms.\")\n",
    "print(\"Hope you know the password, for Earth's sake...\")\n",
    "print()\n",
    "print(\"-----------------------------------------------------------------------------------------------------------------\")\n",
    "print(\"                            WELCOME TO THE GLOBAL DEFENCE NETWORK                                                                 \")\n",
    "print(\"-----------------------------------------------------------------------------------------------------------------\")\n",
    "print()"
   ]
  },
  {
   "cell_type": "code",
   "execution_count": null,
   "metadata": {},
   "outputs": [],
   "source": [
    "guess = input(\"Please enter the password: \").upper()"
   ]
  },
  {
   "cell_type": "code",
   "execution_count": null,
   "metadata": {},
   "outputs": [],
   "source": [
    "while guess != password:\n",
    "\n",
    "    print()\n",
    "    print(\"INCORRECT PASSWORD\")\n",
    "    print()\n",
    "\n",
    "    aliens = aliens ** 2\n",
    "    print(\"There are\",aliens, \"aliens now on earth. Try again!\")\n",
    "\n",
    "    if aliens > 8000000000:\n",
    "        break\n",
    "\n",
    "    print()\n",
    "    print(\"Password hint: the things that are attacking us.\")\n",
    "    print()\n",
    "    guess = input(\"Quick! Please enter the password: \").upper()\n",
    "\n",
    "if aliens > 8000000000:\n",
    "    print(\"Noooooo! The aliens have outnumbered us. All is lost.\")\n",
    "else:\n",
    "    print(\"Hooray! We won the fight and the world is saved!\")"
   ]
  }
 ],
 "metadata": {
  "kernelspec": {
   "display_name": "Python 3",
   "language": "python",
   "name": "python3"
  },
  "language_info": {
   "codemirror_mode": {
    "name": "ipython",
    "version": 3
   },
   "file_extension": ".py",
   "mimetype": "text/x-python",
   "name": "python",
   "nbconvert_exporter": "python",
   "pygments_lexer": "ipython3",
   "version": "3.6.2"
  }
 },
 "nbformat": 4,
 "nbformat_minor": 2
}
